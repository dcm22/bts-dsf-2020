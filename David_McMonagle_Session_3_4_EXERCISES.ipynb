{
  "nbformat": 4,
  "nbformat_minor": 0,
  "metadata": {
    "colab": {
      "name": "David_McMonagle_Session_3_4_EXERCISES.ipynb",
      "provenance": [],
      "collapsed_sections": [],
      "toc_visible": true
    },
    "kernelspec": {
      "name": "python3",
      "display_name": "Python 3"
    }
  },
  "cells": [
    {
      "cell_type": "markdown",
      "metadata": {
        "id": "aUacJe1qJSCG"
      },
      "source": [
        "![BTS](https://github.com/vfp1/bts-dsf-2020/blob/main/Logo-BTS.jpg?raw=1)\n",
        "\n",
        "# Assignement Week 3 and 4\n",
        "\n",
        "### Victor F. Pajuelo Madrigal <victor.pajuelo@bts.tech> - Data Science Foundations (2020-10-29)\n",
        "\n",
        "Open this notebook in Google Colaboratory: [![Open in Colab](https://colab.research.google.com/assets/colab-badge.svg)](https://colab.research.google.com/github/vfp1/bts-dsf-2020/blob/main/exercises/Session_3_4_EXERCISES.ipynb)\n"
      ]
    },
    {
      "cell_type": "markdown",
      "metadata": {
        "id": "XMvnh2nqTxSZ"
      },
      "source": [
        "# PANDAS"
      ]
    },
    {
      "cell_type": "markdown",
      "metadata": {
        "id": "5Wc44wNaSCC3"
      },
      "source": [
        "## Groupby exersises\n",
        "\n",
        "Import this [dataset](https://raw.githubusercontent.com/justmarkham/DAT8/master/data/u.user)\n",
        "\n",
        "   1. What is the mean age per occupation?\n",
        "   2. What is the male ratio per occupation, sort it from the most to the least. Do the same for women\n",
        "   3. For each occupation, calculate the minimum and maximum ages\n",
        "   4. For each combination of occupation and gender, calculate the mean age\n",
        "   5. For each occupation present the percentage of women and men\n",
        "\n"
      ]
    },
    {
      "cell_type": "code",
      "metadata": {
        "id": "ZTtitKD8rc5_",
        "outputId": "ec627ecc-39ba-41d0-83a6-3ede0a86d9a3",
        "colab": {
          "base_uri": "https://localhost:8080/",
          "height": 450
        }
      },
      "source": [
        "import pandas as pd\n",
        "url = 'https://raw.githubusercontent.com/justmarkham/DAT8/master/data/u.user'\n",
        "job = pd.read_csv(url, sep='|', index_col = 'user_id')\n",
        "job"
      ],
      "execution_count": null,
      "outputs": [
        {
          "output_type": "execute_result",
          "data": {
            "text/html": [
              "<div>\n",
              "<style scoped>\n",
              "    .dataframe tbody tr th:only-of-type {\n",
              "        vertical-align: middle;\n",
              "    }\n",
              "\n",
              "    .dataframe tbody tr th {\n",
              "        vertical-align: top;\n",
              "    }\n",
              "\n",
              "    .dataframe thead th {\n",
              "        text-align: right;\n",
              "    }\n",
              "</style>\n",
              "<table border=\"1\" class=\"dataframe\">\n",
              "  <thead>\n",
              "    <tr style=\"text-align: right;\">\n",
              "      <th></th>\n",
              "      <th>age</th>\n",
              "      <th>gender</th>\n",
              "      <th>occupation</th>\n",
              "      <th>zip_code</th>\n",
              "    </tr>\n",
              "    <tr>\n",
              "      <th>user_id</th>\n",
              "      <th></th>\n",
              "      <th></th>\n",
              "      <th></th>\n",
              "      <th></th>\n",
              "    </tr>\n",
              "  </thead>\n",
              "  <tbody>\n",
              "    <tr>\n",
              "      <th>1</th>\n",
              "      <td>24</td>\n",
              "      <td>M</td>\n",
              "      <td>technician</td>\n",
              "      <td>85711</td>\n",
              "    </tr>\n",
              "    <tr>\n",
              "      <th>2</th>\n",
              "      <td>53</td>\n",
              "      <td>F</td>\n",
              "      <td>other</td>\n",
              "      <td>94043</td>\n",
              "    </tr>\n",
              "    <tr>\n",
              "      <th>3</th>\n",
              "      <td>23</td>\n",
              "      <td>M</td>\n",
              "      <td>writer</td>\n",
              "      <td>32067</td>\n",
              "    </tr>\n",
              "    <tr>\n",
              "      <th>4</th>\n",
              "      <td>24</td>\n",
              "      <td>M</td>\n",
              "      <td>technician</td>\n",
              "      <td>43537</td>\n",
              "    </tr>\n",
              "    <tr>\n",
              "      <th>5</th>\n",
              "      <td>33</td>\n",
              "      <td>F</td>\n",
              "      <td>other</td>\n",
              "      <td>15213</td>\n",
              "    </tr>\n",
              "    <tr>\n",
              "      <th>...</th>\n",
              "      <td>...</td>\n",
              "      <td>...</td>\n",
              "      <td>...</td>\n",
              "      <td>...</td>\n",
              "    </tr>\n",
              "    <tr>\n",
              "      <th>939</th>\n",
              "      <td>26</td>\n",
              "      <td>F</td>\n",
              "      <td>student</td>\n",
              "      <td>33319</td>\n",
              "    </tr>\n",
              "    <tr>\n",
              "      <th>940</th>\n",
              "      <td>32</td>\n",
              "      <td>M</td>\n",
              "      <td>administrator</td>\n",
              "      <td>02215</td>\n",
              "    </tr>\n",
              "    <tr>\n",
              "      <th>941</th>\n",
              "      <td>20</td>\n",
              "      <td>M</td>\n",
              "      <td>student</td>\n",
              "      <td>97229</td>\n",
              "    </tr>\n",
              "    <tr>\n",
              "      <th>942</th>\n",
              "      <td>48</td>\n",
              "      <td>F</td>\n",
              "      <td>librarian</td>\n",
              "      <td>78209</td>\n",
              "    </tr>\n",
              "    <tr>\n",
              "      <th>943</th>\n",
              "      <td>22</td>\n",
              "      <td>M</td>\n",
              "      <td>student</td>\n",
              "      <td>77841</td>\n",
              "    </tr>\n",
              "  </tbody>\n",
              "</table>\n",
              "<p>943 rows × 4 columns</p>\n",
              "</div>"
            ],
            "text/plain": [
              "         age gender     occupation zip_code\n",
              "user_id                                    \n",
              "1         24      M     technician    85711\n",
              "2         53      F          other    94043\n",
              "3         23      M         writer    32067\n",
              "4         24      M     technician    43537\n",
              "5         33      F          other    15213\n",
              "...      ...    ...            ...      ...\n",
              "939       26      F        student    33319\n",
              "940       32      M  administrator    02215\n",
              "941       20      M        student    97229\n",
              "942       48      F      librarian    78209\n",
              "943       22      M        student    77841\n",
              "\n",
              "[943 rows x 4 columns]"
            ]
          },
          "metadata": {
            "tags": []
          },
          "execution_count": 83
        }
      ]
    },
    {
      "cell_type": "code",
      "metadata": {
        "id": "mw3u6jTEd4WK",
        "outputId": "2115e22f-1c92-4641-b9b1-deda368a3756",
        "colab": {
          "base_uri": "https://localhost:8080/"
        }
      },
      "source": [
        "#1: What is the mean age per occupation?\n",
        "job[\"occupation\"] = job[\"occupation\"].astype(\"category\")\n",
        "job.groupby('occupation')['age'].mean()"
      ],
      "execution_count": null,
      "outputs": [
        {
          "output_type": "execute_result",
          "data": {
            "text/plain": [
              "occupation\n",
              "administrator    38.746835\n",
              "artist           31.392857\n",
              "doctor           43.571429\n",
              "educator         42.010526\n",
              "engineer         36.388060\n",
              "entertainment    29.222222\n",
              "executive        38.718750\n",
              "healthcare       41.562500\n",
              "homemaker        32.571429\n",
              "lawyer           36.750000\n",
              "librarian        40.000000\n",
              "marketing        37.615385\n",
              "none             26.555556\n",
              "other            34.523810\n",
              "programmer       33.121212\n",
              "retired          63.071429\n",
              "salesman         35.666667\n",
              "scientist        35.548387\n",
              "student          22.081633\n",
              "technician       33.148148\n",
              "writer           36.311111\n",
              "Name: age, dtype: float64"
            ]
          },
          "metadata": {
            "tags": []
          },
          "execution_count": 84
        }
      ]
    },
    {
      "cell_type": "code",
      "metadata": {
        "id": "2FlVBgxmd4fw",
        "outputId": "19740fc2-5873-4f42-aff1-d52c210bc64b",
        "colab": {
          "base_uri": "https://localhost:8080/"
        }
      },
      "source": [
        "#2: What is the male ratio per occupation, sort it from the most to the least. Do the same for women\n",
        "g_count =job.groupby(['occupation','gender'])['gender'].count()\n",
        "g_total =job.groupby(['occupation'])['gender'].count()\n",
        "r=((g_count/g_total)*100).round(2)\n",
        "print(r)"
      ],
      "execution_count": null,
      "outputs": [
        {
          "output_type": "stream",
          "text": [
            "occupation     gender\n",
            "administrator  F          45.57\n",
            "               M          54.43\n",
            "artist         F          46.43\n",
            "               M          53.57\n",
            "doctor         F           0.00\n",
            "               M         100.00\n",
            "educator       F          27.37\n",
            "               M          72.63\n",
            "engineer       F           2.99\n",
            "               M          97.01\n",
            "entertainment  F          11.11\n",
            "               M          88.89\n",
            "executive      F           9.38\n",
            "               M          90.62\n",
            "healthcare     F          68.75\n",
            "               M          31.25\n",
            "homemaker      F          85.71\n",
            "               M          14.29\n",
            "lawyer         F          16.67\n",
            "               M          83.33\n",
            "librarian      F          56.86\n",
            "               M          43.14\n",
            "marketing      F          38.46\n",
            "               M          61.54\n",
            "none           F          44.44\n",
            "               M          55.56\n",
            "other          F          34.29\n",
            "               M          65.71\n",
            "programmer     F           9.09\n",
            "               M          90.91\n",
            "retired        F           7.14\n",
            "               M          92.86\n",
            "salesman       F          25.00\n",
            "               M          75.00\n",
            "scientist      F           9.68\n",
            "               M          90.32\n",
            "student        F          30.61\n",
            "               M          69.39\n",
            "technician     F           3.70\n",
            "               M          96.30\n",
            "writer         F          42.22\n",
            "               M          57.78\n",
            "Name: gender, dtype: float64\n"
          ],
          "name": "stdout"
        }
      ]
    },
    {
      "cell_type": "code",
      "metadata": {
        "id": "5JnebxPTd8u7",
        "outputId": "b4e60e3f-1640-4728-8985-82726f11302c",
        "colab": {
          "base_uri": "https://localhost:8080/"
        }
      },
      "source": [
        "###Proper solution Male\n",
        "\"\"\"\n",
        "We create a function to apply it and create a new column. We will call it gender number.\n",
        "This function returns values of 1 to count the gender that we are interested in\n",
        "\"\"\"\n",
        "# create a function\n",
        "def gender_to_numeric(x):\n",
        "    if x == 'M':\n",
        "        return 1\n",
        "    if x == 'F':\n",
        "        return 0\n",
        "\n",
        "# apply the function to the gender column and create a new column\n",
        "job['gender_n'] = job['gender'].apply(gender_to_numeric)\n",
        "job.head(10)\n",
        "\n",
        "# \n",
        "\n",
        "a = job.groupby('occupation').gender_n.sum() / job.occupation.value_counts() * 100 \n",
        "\n",
        "# sort to the most male \n",
        "a.sort_values(ascending = False)"
      ],
      "execution_count": null,
      "outputs": [
        {
          "output_type": "execute_result",
          "data": {
            "text/plain": [
              "doctor           100.000000\n",
              "engineer          97.014925\n",
              "technician        96.296296\n",
              "retired           92.857143\n",
              "programmer        90.909091\n",
              "executive         90.625000\n",
              "scientist         90.322581\n",
              "entertainment     88.888889\n",
              "lawyer            83.333333\n",
              "salesman          75.000000\n",
              "educator          72.631579\n",
              "student           69.387755\n",
              "other             65.714286\n",
              "marketing         61.538462\n",
              "writer            57.777778\n",
              "none              55.555556\n",
              "administrator     54.430380\n",
              "artist            53.571429\n",
              "librarian         43.137255\n",
              "healthcare        31.250000\n",
              "homemaker         14.285714\n",
              "dtype: float64"
            ]
          },
          "metadata": {
            "tags": []
          },
          "execution_count": 56
        }
      ]
    },
    {
      "cell_type": "code",
      "metadata": {
        "id": "elynYp6dd4i4",
        "outputId": "1b2c7861-9b53-49b3-bda8-41c4ff9ef078",
        "colab": {
          "base_uri": "https://localhost:8080/"
        }
      },
      "source": [
        "###Proper solution Female\n",
        "\"\"\"\n",
        "We create a function to apply it and create a new column. We will call it gender number.\n",
        "This function returns values of 1 to count the gender that we are interested in\n",
        "\"\"\"\n",
        "def gender_to_numeric(x):\n",
        "    if x == 'M':\n",
        "        return 0\n",
        "    if x == 'F':\n",
        "        return 1\n",
        "\n",
        "# apply the function to the gender column and create a new column\n",
        "job['gender_n'] = job['gender'].apply(gender_to_numeric)\n",
        "job.head(10)\n",
        "\n",
        "#\n",
        "\n",
        "a = job.groupby('occupation').gender_n.sum() / job.occupation.value_counts() * 100 \n",
        "\n",
        "# sort to the most female \n",
        "a.sort_values(ascending = False)"
      ],
      "execution_count": null,
      "outputs": [
        {
          "output_type": "execute_result",
          "data": {
            "text/plain": [
              "homemaker        85.714286\n",
              "healthcare       68.750000\n",
              "librarian        56.862745\n",
              "artist           46.428571\n",
              "administrator    45.569620\n",
              "none             44.444444\n",
              "writer           42.222222\n",
              "marketing        38.461538\n",
              "other            34.285714\n",
              "student          30.612245\n",
              "educator         27.368421\n",
              "salesman         25.000000\n",
              "lawyer           16.666667\n",
              "entertainment    11.111111\n",
              "scientist         9.677419\n",
              "executive         9.375000\n",
              "programmer        9.090909\n",
              "retired           7.142857\n",
              "technician        3.703704\n",
              "engineer          2.985075\n",
              "doctor            0.000000\n",
              "dtype: float64"
            ]
          },
          "metadata": {
            "tags": []
          },
          "execution_count": 86
        }
      ]
    },
    {
      "cell_type": "code",
      "metadata": {
        "id": "qfI1FiU7d4mH",
        "outputId": "8ce75fd3-8c84-4cf1-bccd-c3f6c20800d6",
        "colab": {
          "base_uri": "https://localhost:8080/",
          "height": 785
        }
      },
      "source": [
        "#3: For each occupation, calculate the minimum and maximum ages\n",
        "job.groupby('occupation')['age'].agg([pd.np.min, pd.np.max])"
      ],
      "execution_count": null,
      "outputs": [
        {
          "output_type": "stream",
          "text": [
            "/usr/local/lib/python3.6/dist-packages/ipykernel_launcher.py:2: FutureWarning: The pandas.np module is deprecated and will be removed from pandas in a future version. Import numpy directly instead\n",
            "  \n"
          ],
          "name": "stderr"
        },
        {
          "output_type": "execute_result",
          "data": {
            "text/html": [
              "<div>\n",
              "<style scoped>\n",
              "    .dataframe tbody tr th:only-of-type {\n",
              "        vertical-align: middle;\n",
              "    }\n",
              "\n",
              "    .dataframe tbody tr th {\n",
              "        vertical-align: top;\n",
              "    }\n",
              "\n",
              "    .dataframe thead th {\n",
              "        text-align: right;\n",
              "    }\n",
              "</style>\n",
              "<table border=\"1\" class=\"dataframe\">\n",
              "  <thead>\n",
              "    <tr style=\"text-align: right;\">\n",
              "      <th></th>\n",
              "      <th>amin</th>\n",
              "      <th>amax</th>\n",
              "    </tr>\n",
              "    <tr>\n",
              "      <th>occupation</th>\n",
              "      <th></th>\n",
              "      <th></th>\n",
              "    </tr>\n",
              "  </thead>\n",
              "  <tbody>\n",
              "    <tr>\n",
              "      <th>administrator</th>\n",
              "      <td>21</td>\n",
              "      <td>70</td>\n",
              "    </tr>\n",
              "    <tr>\n",
              "      <th>artist</th>\n",
              "      <td>19</td>\n",
              "      <td>48</td>\n",
              "    </tr>\n",
              "    <tr>\n",
              "      <th>doctor</th>\n",
              "      <td>28</td>\n",
              "      <td>64</td>\n",
              "    </tr>\n",
              "    <tr>\n",
              "      <th>educator</th>\n",
              "      <td>23</td>\n",
              "      <td>63</td>\n",
              "    </tr>\n",
              "    <tr>\n",
              "      <th>engineer</th>\n",
              "      <td>22</td>\n",
              "      <td>70</td>\n",
              "    </tr>\n",
              "    <tr>\n",
              "      <th>entertainment</th>\n",
              "      <td>15</td>\n",
              "      <td>50</td>\n",
              "    </tr>\n",
              "    <tr>\n",
              "      <th>executive</th>\n",
              "      <td>22</td>\n",
              "      <td>69</td>\n",
              "    </tr>\n",
              "    <tr>\n",
              "      <th>healthcare</th>\n",
              "      <td>22</td>\n",
              "      <td>62</td>\n",
              "    </tr>\n",
              "    <tr>\n",
              "      <th>homemaker</th>\n",
              "      <td>20</td>\n",
              "      <td>50</td>\n",
              "    </tr>\n",
              "    <tr>\n",
              "      <th>lawyer</th>\n",
              "      <td>21</td>\n",
              "      <td>53</td>\n",
              "    </tr>\n",
              "    <tr>\n",
              "      <th>librarian</th>\n",
              "      <td>23</td>\n",
              "      <td>69</td>\n",
              "    </tr>\n",
              "    <tr>\n",
              "      <th>marketing</th>\n",
              "      <td>24</td>\n",
              "      <td>55</td>\n",
              "    </tr>\n",
              "    <tr>\n",
              "      <th>none</th>\n",
              "      <td>11</td>\n",
              "      <td>55</td>\n",
              "    </tr>\n",
              "    <tr>\n",
              "      <th>other</th>\n",
              "      <td>13</td>\n",
              "      <td>64</td>\n",
              "    </tr>\n",
              "    <tr>\n",
              "      <th>programmer</th>\n",
              "      <td>20</td>\n",
              "      <td>63</td>\n",
              "    </tr>\n",
              "    <tr>\n",
              "      <th>retired</th>\n",
              "      <td>51</td>\n",
              "      <td>73</td>\n",
              "    </tr>\n",
              "    <tr>\n",
              "      <th>salesman</th>\n",
              "      <td>18</td>\n",
              "      <td>66</td>\n",
              "    </tr>\n",
              "    <tr>\n",
              "      <th>scientist</th>\n",
              "      <td>23</td>\n",
              "      <td>55</td>\n",
              "    </tr>\n",
              "    <tr>\n",
              "      <th>student</th>\n",
              "      <td>7</td>\n",
              "      <td>42</td>\n",
              "    </tr>\n",
              "    <tr>\n",
              "      <th>technician</th>\n",
              "      <td>21</td>\n",
              "      <td>55</td>\n",
              "    </tr>\n",
              "    <tr>\n",
              "      <th>writer</th>\n",
              "      <td>18</td>\n",
              "      <td>60</td>\n",
              "    </tr>\n",
              "  </tbody>\n",
              "</table>\n",
              "</div>"
            ],
            "text/plain": [
              "               amin  amax\n",
              "occupation               \n",
              "administrator    21    70\n",
              "artist           19    48\n",
              "doctor           28    64\n",
              "educator         23    63\n",
              "engineer         22    70\n",
              "entertainment    15    50\n",
              "executive        22    69\n",
              "healthcare       22    62\n",
              "homemaker        20    50\n",
              "lawyer           21    53\n",
              "librarian        23    69\n",
              "marketing        24    55\n",
              "none             11    55\n",
              "other            13    64\n",
              "programmer       20    63\n",
              "retired          51    73\n",
              "salesman         18    66\n",
              "scientist        23    55\n",
              "student           7    42\n",
              "technician       21    55\n",
              "writer           18    60"
            ]
          },
          "metadata": {
            "tags": []
          },
          "execution_count": 87
        }
      ]
    },
    {
      "cell_type": "code",
      "metadata": {
        "id": "GHjIhbg_fGyr",
        "outputId": "6845c694-b92a-48e8-9f4e-e4c18c4dbce0",
        "colab": {
          "base_uri": "https://localhost:8080/",
          "height": 1000
        }
      },
      "source": [
        "#4: For each combination of occupation and gender, calculate the mean age\n",
        "job.groupby(['occupation','gender'])['age'].agg([pd.np.mean]).round(2)"
      ],
      "execution_count": null,
      "outputs": [
        {
          "output_type": "stream",
          "text": [
            "/usr/local/lib/python3.6/dist-packages/ipykernel_launcher.py:2: FutureWarning: The pandas.np module is deprecated and will be removed from pandas in a future version. Import numpy directly instead\n",
            "  \n"
          ],
          "name": "stderr"
        },
        {
          "output_type": "execute_result",
          "data": {
            "text/html": [
              "<div>\n",
              "<style scoped>\n",
              "    .dataframe tbody tr th:only-of-type {\n",
              "        vertical-align: middle;\n",
              "    }\n",
              "\n",
              "    .dataframe tbody tr th {\n",
              "        vertical-align: top;\n",
              "    }\n",
              "\n",
              "    .dataframe thead th {\n",
              "        text-align: right;\n",
              "    }\n",
              "</style>\n",
              "<table border=\"1\" class=\"dataframe\">\n",
              "  <thead>\n",
              "    <tr style=\"text-align: right;\">\n",
              "      <th></th>\n",
              "      <th></th>\n",
              "      <th>mean</th>\n",
              "    </tr>\n",
              "    <tr>\n",
              "      <th>occupation</th>\n",
              "      <th>gender</th>\n",
              "      <th></th>\n",
              "    </tr>\n",
              "  </thead>\n",
              "  <tbody>\n",
              "    <tr>\n",
              "      <th rowspan=\"2\" valign=\"top\">administrator</th>\n",
              "      <th>F</th>\n",
              "      <td>40.64</td>\n",
              "    </tr>\n",
              "    <tr>\n",
              "      <th>M</th>\n",
              "      <td>37.16</td>\n",
              "    </tr>\n",
              "    <tr>\n",
              "      <th rowspan=\"2\" valign=\"top\">artist</th>\n",
              "      <th>F</th>\n",
              "      <td>30.31</td>\n",
              "    </tr>\n",
              "    <tr>\n",
              "      <th>M</th>\n",
              "      <td>32.33</td>\n",
              "    </tr>\n",
              "    <tr>\n",
              "      <th rowspan=\"2\" valign=\"top\">doctor</th>\n",
              "      <th>F</th>\n",
              "      <td>NaN</td>\n",
              "    </tr>\n",
              "    <tr>\n",
              "      <th>M</th>\n",
              "      <td>43.57</td>\n",
              "    </tr>\n",
              "    <tr>\n",
              "      <th rowspan=\"2\" valign=\"top\">educator</th>\n",
              "      <th>F</th>\n",
              "      <td>39.12</td>\n",
              "    </tr>\n",
              "    <tr>\n",
              "      <th>M</th>\n",
              "      <td>43.10</td>\n",
              "    </tr>\n",
              "    <tr>\n",
              "      <th rowspan=\"2\" valign=\"top\">engineer</th>\n",
              "      <th>F</th>\n",
              "      <td>29.50</td>\n",
              "    </tr>\n",
              "    <tr>\n",
              "      <th>M</th>\n",
              "      <td>36.60</td>\n",
              "    </tr>\n",
              "    <tr>\n",
              "      <th rowspan=\"2\" valign=\"top\">entertainment</th>\n",
              "      <th>F</th>\n",
              "      <td>31.00</td>\n",
              "    </tr>\n",
              "    <tr>\n",
              "      <th>M</th>\n",
              "      <td>29.00</td>\n",
              "    </tr>\n",
              "    <tr>\n",
              "      <th rowspan=\"2\" valign=\"top\">executive</th>\n",
              "      <th>F</th>\n",
              "      <td>44.00</td>\n",
              "    </tr>\n",
              "    <tr>\n",
              "      <th>M</th>\n",
              "      <td>38.17</td>\n",
              "    </tr>\n",
              "    <tr>\n",
              "      <th rowspan=\"2\" valign=\"top\">healthcare</th>\n",
              "      <th>F</th>\n",
              "      <td>39.82</td>\n",
              "    </tr>\n",
              "    <tr>\n",
              "      <th>M</th>\n",
              "      <td>45.40</td>\n",
              "    </tr>\n",
              "    <tr>\n",
              "      <th rowspan=\"2\" valign=\"top\">homemaker</th>\n",
              "      <th>F</th>\n",
              "      <td>34.17</td>\n",
              "    </tr>\n",
              "    <tr>\n",
              "      <th>M</th>\n",
              "      <td>23.00</td>\n",
              "    </tr>\n",
              "    <tr>\n",
              "      <th rowspan=\"2\" valign=\"top\">lawyer</th>\n",
              "      <th>F</th>\n",
              "      <td>39.50</td>\n",
              "    </tr>\n",
              "    <tr>\n",
              "      <th>M</th>\n",
              "      <td>36.20</td>\n",
              "    </tr>\n",
              "    <tr>\n",
              "      <th rowspan=\"2\" valign=\"top\">librarian</th>\n",
              "      <th>F</th>\n",
              "      <td>40.00</td>\n",
              "    </tr>\n",
              "    <tr>\n",
              "      <th>M</th>\n",
              "      <td>40.00</td>\n",
              "    </tr>\n",
              "    <tr>\n",
              "      <th rowspan=\"2\" valign=\"top\">marketing</th>\n",
              "      <th>F</th>\n",
              "      <td>37.20</td>\n",
              "    </tr>\n",
              "    <tr>\n",
              "      <th>M</th>\n",
              "      <td>37.88</td>\n",
              "    </tr>\n",
              "    <tr>\n",
              "      <th rowspan=\"2\" valign=\"top\">none</th>\n",
              "      <th>F</th>\n",
              "      <td>36.50</td>\n",
              "    </tr>\n",
              "    <tr>\n",
              "      <th>M</th>\n",
              "      <td>18.60</td>\n",
              "    </tr>\n",
              "    <tr>\n",
              "      <th rowspan=\"2\" valign=\"top\">other</th>\n",
              "      <th>F</th>\n",
              "      <td>35.47</td>\n",
              "    </tr>\n",
              "    <tr>\n",
              "      <th>M</th>\n",
              "      <td>34.03</td>\n",
              "    </tr>\n",
              "    <tr>\n",
              "      <th rowspan=\"2\" valign=\"top\">programmer</th>\n",
              "      <th>F</th>\n",
              "      <td>32.17</td>\n",
              "    </tr>\n",
              "    <tr>\n",
              "      <th>M</th>\n",
              "      <td>33.22</td>\n",
              "    </tr>\n",
              "    <tr>\n",
              "      <th rowspan=\"2\" valign=\"top\">retired</th>\n",
              "      <th>F</th>\n",
              "      <td>70.00</td>\n",
              "    </tr>\n",
              "    <tr>\n",
              "      <th>M</th>\n",
              "      <td>62.54</td>\n",
              "    </tr>\n",
              "    <tr>\n",
              "      <th rowspan=\"2\" valign=\"top\">salesman</th>\n",
              "      <th>F</th>\n",
              "      <td>27.00</td>\n",
              "    </tr>\n",
              "    <tr>\n",
              "      <th>M</th>\n",
              "      <td>38.56</td>\n",
              "    </tr>\n",
              "    <tr>\n",
              "      <th rowspan=\"2\" valign=\"top\">scientist</th>\n",
              "      <th>F</th>\n",
              "      <td>28.33</td>\n",
              "    </tr>\n",
              "    <tr>\n",
              "      <th>M</th>\n",
              "      <td>36.32</td>\n",
              "    </tr>\n",
              "    <tr>\n",
              "      <th rowspan=\"2\" valign=\"top\">student</th>\n",
              "      <th>F</th>\n",
              "      <td>20.75</td>\n",
              "    </tr>\n",
              "    <tr>\n",
              "      <th>M</th>\n",
              "      <td>22.67</td>\n",
              "    </tr>\n",
              "    <tr>\n",
              "      <th rowspan=\"2\" valign=\"top\">technician</th>\n",
              "      <th>F</th>\n",
              "      <td>38.00</td>\n",
              "    </tr>\n",
              "    <tr>\n",
              "      <th>M</th>\n",
              "      <td>32.96</td>\n",
              "    </tr>\n",
              "    <tr>\n",
              "      <th rowspan=\"2\" valign=\"top\">writer</th>\n",
              "      <th>F</th>\n",
              "      <td>37.63</td>\n",
              "    </tr>\n",
              "    <tr>\n",
              "      <th>M</th>\n",
              "      <td>35.35</td>\n",
              "    </tr>\n",
              "  </tbody>\n",
              "</table>\n",
              "</div>"
            ],
            "text/plain": [
              "                       mean\n",
              "occupation    gender       \n",
              "administrator F       40.64\n",
              "              M       37.16\n",
              "artist        F       30.31\n",
              "              M       32.33\n",
              "doctor        F         NaN\n",
              "              M       43.57\n",
              "educator      F       39.12\n",
              "              M       43.10\n",
              "engineer      F       29.50\n",
              "              M       36.60\n",
              "entertainment F       31.00\n",
              "              M       29.00\n",
              "executive     F       44.00\n",
              "              M       38.17\n",
              "healthcare    F       39.82\n",
              "              M       45.40\n",
              "homemaker     F       34.17\n",
              "              M       23.00\n",
              "lawyer        F       39.50\n",
              "              M       36.20\n",
              "librarian     F       40.00\n",
              "              M       40.00\n",
              "marketing     F       37.20\n",
              "              M       37.88\n",
              "none          F       36.50\n",
              "              M       18.60\n",
              "other         F       35.47\n",
              "              M       34.03\n",
              "programmer    F       32.17\n",
              "              M       33.22\n",
              "retired       F       70.00\n",
              "              M       62.54\n",
              "salesman      F       27.00\n",
              "              M       38.56\n",
              "scientist     F       28.33\n",
              "              M       36.32\n",
              "student       F       20.75\n",
              "              M       22.67\n",
              "technician    F       38.00\n",
              "              M       32.96\n",
              "writer        F       37.63\n",
              "              M       35.35"
            ]
          },
          "metadata": {
            "tags": []
          },
          "execution_count": 88
        }
      ]
    },
    {
      "cell_type": "code",
      "metadata": {
        "id": "EGrzihcseqS6",
        "outputId": "b2b42f22-e848-4eab-90d0-49f85e56eff4",
        "colab": {
          "base_uri": "https://localhost:8080/"
        }
      },
      "source": [
        "#5: For each occupation present the percentage of women and men\n",
        "g_count =job.groupby(['occupation','gender'])['gender'].count()\n",
        "g_total =job.groupby(['occupation'])['gender'].count()\n",
        "r=((g_count/g_total)*100).round(2)\n",
        "print(r)"
      ],
      "execution_count": null,
      "outputs": [
        {
          "output_type": "stream",
          "text": [
            "occupation     gender\n",
            "administrator  F          45.57\n",
            "               M          54.43\n",
            "artist         F          46.43\n",
            "               M          53.57\n",
            "doctor         F           0.00\n",
            "               M         100.00\n",
            "educator       F          27.37\n",
            "               M          72.63\n",
            "engineer       F           2.99\n",
            "               M          97.01\n",
            "entertainment  F          11.11\n",
            "               M          88.89\n",
            "executive      F           9.38\n",
            "               M          90.62\n",
            "healthcare     F          68.75\n",
            "               M          31.25\n",
            "homemaker      F          85.71\n",
            "               M          14.29\n",
            "lawyer         F          16.67\n",
            "               M          83.33\n",
            "librarian      F          56.86\n",
            "               M          43.14\n",
            "marketing      F          38.46\n",
            "               M          61.54\n",
            "none           F          44.44\n",
            "               M          55.56\n",
            "other          F          34.29\n",
            "               M          65.71\n",
            "programmer     F           9.09\n",
            "               M          90.91\n",
            "retired        F           7.14\n",
            "               M          92.86\n",
            "salesman       F          25.00\n",
            "               M          75.00\n",
            "scientist      F           9.68\n",
            "               M          90.32\n",
            "student        F          30.61\n",
            "               M          69.39\n",
            "technician     F           3.70\n",
            "               M          96.30\n",
            "writer         F          42.22\n",
            "               M          57.78\n",
            "Name: gender, dtype: float64\n"
          ],
          "name": "stdout"
        }
      ]
    },
    {
      "cell_type": "markdown",
      "metadata": {
        "id": "2fCqx8EDTEr5"
      },
      "source": [
        "## Apply exercises\n",
        "\n",
        "Import this [dataset](https://raw.githubusercontent.com/vfp1/bts-dsf-2020/main/data/US_Crime_Rates_1960_2014.csv)\n",
        "\n",
        " 1. What is the type of the columns?\n",
        " 2. Convert the type of the column Year to datetime64\n",
        " 3. Set the Year column as the index of the dataframe\n",
        " 4. Delete the Total column\n",
        " 5. Group the year by decades and sum the values (take care with population values) \n",
        " 6. What is the most dangerous decade to live in the US?\n"
      ]
    },
    {
      "cell_type": "code",
      "metadata": {
        "id": "y0aTwBxqfPB8",
        "outputId": "14381c21-8abf-4ad4-c7a4-b6647032f243",
        "colab": {
          "base_uri": "https://localhost:8080/",
          "height": 224
        }
      },
      "source": [
        "import pandas as pd\n",
        "url = 'https://raw.githubusercontent.com/vfp1/bts-dsf-2020/main/data/US_Crime_Rates_1960_2014.csv'\n",
        "crime= pd.read_csv(url, sep=',')\n",
        "crime.head()"
      ],
      "execution_count": null,
      "outputs": [
        {
          "output_type": "execute_result",
          "data": {
            "text/html": [
              "<div>\n",
              "<style scoped>\n",
              "    .dataframe tbody tr th:only-of-type {\n",
              "        vertical-align: middle;\n",
              "    }\n",
              "\n",
              "    .dataframe tbody tr th {\n",
              "        vertical-align: top;\n",
              "    }\n",
              "\n",
              "    .dataframe thead th {\n",
              "        text-align: right;\n",
              "    }\n",
              "</style>\n",
              "<table border=\"1\" class=\"dataframe\">\n",
              "  <thead>\n",
              "    <tr style=\"text-align: right;\">\n",
              "      <th></th>\n",
              "      <th>Year</th>\n",
              "      <th>Population</th>\n",
              "      <th>Total</th>\n",
              "      <th>Violent</th>\n",
              "      <th>Property</th>\n",
              "      <th>Murder</th>\n",
              "      <th>Forcible_Rape</th>\n",
              "      <th>Robbery</th>\n",
              "      <th>Aggravated_assault</th>\n",
              "      <th>Burglary</th>\n",
              "      <th>Larceny_Theft</th>\n",
              "      <th>Vehicle_Theft</th>\n",
              "    </tr>\n",
              "  </thead>\n",
              "  <tbody>\n",
              "    <tr>\n",
              "      <th>0</th>\n",
              "      <td>1960</td>\n",
              "      <td>179323175</td>\n",
              "      <td>3384200</td>\n",
              "      <td>288460</td>\n",
              "      <td>3095700</td>\n",
              "      <td>9110</td>\n",
              "      <td>17190</td>\n",
              "      <td>107840</td>\n",
              "      <td>154320</td>\n",
              "      <td>912100</td>\n",
              "      <td>1855400</td>\n",
              "      <td>328200</td>\n",
              "    </tr>\n",
              "    <tr>\n",
              "      <th>1</th>\n",
              "      <td>1961</td>\n",
              "      <td>182992000</td>\n",
              "      <td>3488000</td>\n",
              "      <td>289390</td>\n",
              "      <td>3198600</td>\n",
              "      <td>8740</td>\n",
              "      <td>17220</td>\n",
              "      <td>106670</td>\n",
              "      <td>156760</td>\n",
              "      <td>949600</td>\n",
              "      <td>1913000</td>\n",
              "      <td>336000</td>\n",
              "    </tr>\n",
              "    <tr>\n",
              "      <th>2</th>\n",
              "      <td>1962</td>\n",
              "      <td>185771000</td>\n",
              "      <td>3752200</td>\n",
              "      <td>301510</td>\n",
              "      <td>3450700</td>\n",
              "      <td>8530</td>\n",
              "      <td>17550</td>\n",
              "      <td>110860</td>\n",
              "      <td>164570</td>\n",
              "      <td>994300</td>\n",
              "      <td>2089600</td>\n",
              "      <td>366800</td>\n",
              "    </tr>\n",
              "    <tr>\n",
              "      <th>3</th>\n",
              "      <td>1963</td>\n",
              "      <td>188483000</td>\n",
              "      <td>4109500</td>\n",
              "      <td>316970</td>\n",
              "      <td>3792500</td>\n",
              "      <td>8640</td>\n",
              "      <td>17650</td>\n",
              "      <td>116470</td>\n",
              "      <td>174210</td>\n",
              "      <td>1086400</td>\n",
              "      <td>2297800</td>\n",
              "      <td>408300</td>\n",
              "    </tr>\n",
              "    <tr>\n",
              "      <th>4</th>\n",
              "      <td>1964</td>\n",
              "      <td>191141000</td>\n",
              "      <td>4564600</td>\n",
              "      <td>364220</td>\n",
              "      <td>4200400</td>\n",
              "      <td>9360</td>\n",
              "      <td>21420</td>\n",
              "      <td>130390</td>\n",
              "      <td>203050</td>\n",
              "      <td>1213200</td>\n",
              "      <td>2514400</td>\n",
              "      <td>472800</td>\n",
              "    </tr>\n",
              "  </tbody>\n",
              "</table>\n",
              "</div>"
            ],
            "text/plain": [
              "   Year  Population    Total  ...  Burglary  Larceny_Theft  Vehicle_Theft\n",
              "0  1960   179323175  3384200  ...    912100        1855400         328200\n",
              "1  1961   182992000  3488000  ...    949600        1913000         336000\n",
              "2  1962   185771000  3752200  ...    994300        2089600         366800\n",
              "3  1963   188483000  4109500  ...   1086400        2297800         408300\n",
              "4  1964   191141000  4564600  ...   1213200        2514400         472800\n",
              "\n",
              "[5 rows x 12 columns]"
            ]
          },
          "metadata": {
            "tags": []
          },
          "execution_count": 108
        }
      ]
    },
    {
      "cell_type": "code",
      "metadata": {
        "id": "kHLlb55AfSSs",
        "outputId": "e29cd4e5-4890-476d-8394-133b55804c52",
        "colab": {
          "base_uri": "https://localhost:8080/"
        }
      },
      "source": [
        "#1: What is the type of the columns?\n",
        "crime.info()"
      ],
      "execution_count": null,
      "outputs": [
        {
          "output_type": "stream",
          "text": [
            "<class 'pandas.core.frame.DataFrame'>\n",
            "RangeIndex: 55 entries, 0 to 54\n",
            "Data columns (total 12 columns):\n",
            " #   Column              Non-Null Count  Dtype\n",
            "---  ------              --------------  -----\n",
            " 0   Year                55 non-null     int64\n",
            " 1   Population          55 non-null     int64\n",
            " 2   Total               55 non-null     int64\n",
            " 3   Violent             55 non-null     int64\n",
            " 4   Property            55 non-null     int64\n",
            " 5   Murder              55 non-null     int64\n",
            " 6   Forcible_Rape       55 non-null     int64\n",
            " 7   Robbery             55 non-null     int64\n",
            " 8   Aggravated_assault  55 non-null     int64\n",
            " 9   Burglary            55 non-null     int64\n",
            " 10  Larceny_Theft       55 non-null     int64\n",
            " 11  Vehicle_Theft       55 non-null     int64\n",
            "dtypes: int64(12)\n",
            "memory usage: 5.3 KB\n"
          ],
          "name": "stdout"
        }
      ]
    },
    {
      "cell_type": "code",
      "metadata": {
        "id": "RCihodt1faNV",
        "outputId": "b9dfae50-5f95-4ba4-b89d-3f9218f3880e",
        "colab": {
          "base_uri": "https://localhost:8080/"
        }
      },
      "source": [
        "#2: Convert the type of the column Year to datetime64\n",
        "crime['Year'] = pd.to_datetime(crime[\"Year\"],format='%Y') \n",
        "crime.dtypes"
      ],
      "execution_count": null,
      "outputs": [
        {
          "output_type": "execute_result",
          "data": {
            "text/plain": [
              "Year                  datetime64[ns]\n",
              "Population                     int64\n",
              "Total                          int64\n",
              "Violent                        int64\n",
              "Property                       int64\n",
              "Murder                         int64\n",
              "Forcible_Rape                  int64\n",
              "Robbery                        int64\n",
              "Aggravated_assault             int64\n",
              "Burglary                       int64\n",
              "Larceny_Theft                  int64\n",
              "Vehicle_Theft                  int64\n",
              "dtype: object"
            ]
          },
          "metadata": {
            "tags": []
          },
          "execution_count": 111
        }
      ]
    },
    {
      "cell_type": "code",
      "metadata": {
        "id": "nQNafqvepGtM"
      },
      "source": [
        "#2: Victor's Solution\n",
        "crime= pd.read_csv(url, sep=',',parse_dates=['Year'])"
      ],
      "execution_count": null,
      "outputs": []
    },
    {
      "cell_type": "code",
      "metadata": {
        "id": "_YL0lJ6OfhyA"
      },
      "source": [
        "#3: Set the Year column as the index of the dataframe\n",
        "crime.set_index('Year', inplace=True)"
      ],
      "execution_count": null,
      "outputs": []
    },
    {
      "cell_type": "code",
      "metadata": {
        "id": "_2uvBRVQtYUm",
        "outputId": "c3a02a6a-c268-4b2e-ea9f-86807a8c733b",
        "colab": {
          "base_uri": "https://localhost:8080/",
          "height": 148
        }
      },
      "source": [
        "#4: Delete the Total column\n",
        "crime= crime.drop(['Total'],axis=1)\n",
        "crime.tail(1)"
      ],
      "execution_count": null,
      "outputs": [
        {
          "output_type": "execute_result",
          "data": {
            "text/html": [
              "<div>\n",
              "<style scoped>\n",
              "    .dataframe tbody tr th:only-of-type {\n",
              "        vertical-align: middle;\n",
              "    }\n",
              "\n",
              "    .dataframe tbody tr th {\n",
              "        vertical-align: top;\n",
              "    }\n",
              "\n",
              "    .dataframe thead th {\n",
              "        text-align: right;\n",
              "    }\n",
              "</style>\n",
              "<table border=\"1\" class=\"dataframe\">\n",
              "  <thead>\n",
              "    <tr style=\"text-align: right;\">\n",
              "      <th></th>\n",
              "      <th>Population</th>\n",
              "      <th>Violent</th>\n",
              "      <th>Property</th>\n",
              "      <th>Murder</th>\n",
              "      <th>Forcible_Rape</th>\n",
              "      <th>Robbery</th>\n",
              "      <th>Aggravated_assault</th>\n",
              "      <th>Burglary</th>\n",
              "      <th>Larceny_Theft</th>\n",
              "      <th>Vehicle_Theft</th>\n",
              "    </tr>\n",
              "    <tr>\n",
              "      <th>Year</th>\n",
              "      <th></th>\n",
              "      <th></th>\n",
              "      <th></th>\n",
              "      <th></th>\n",
              "      <th></th>\n",
              "      <th></th>\n",
              "      <th></th>\n",
              "      <th></th>\n",
              "      <th></th>\n",
              "      <th></th>\n",
              "    </tr>\n",
              "  </thead>\n",
              "  <tbody>\n",
              "    <tr>\n",
              "      <th>2014-01-01</th>\n",
              "      <td>318857056</td>\n",
              "      <td>1197987</td>\n",
              "      <td>8277829</td>\n",
              "      <td>14249</td>\n",
              "      <td>84041</td>\n",
              "      <td>325802</td>\n",
              "      <td>741291</td>\n",
              "      <td>1729806</td>\n",
              "      <td>5858496</td>\n",
              "      <td>689527</td>\n",
              "    </tr>\n",
              "  </tbody>\n",
              "</table>\n",
              "</div>"
            ],
            "text/plain": [
              "            Population  Violent  ...  Larceny_Theft  Vehicle_Theft\n",
              "Year                             ...                              \n",
              "2014-01-01   318857056  1197987  ...        5858496         689527\n",
              "\n",
              "[1 rows x 10 columns]"
            ]
          },
          "metadata": {
            "tags": []
          },
          "execution_count": 113
        }
      ]
    },
    {
      "cell_type": "code",
      "metadata": {
        "id": "JVLzeQEQtZDp",
        "outputId": "48ef4b36-7d09-43d8-84f0-71a4f9e0758b",
        "colab": {
          "base_uri": "https://localhost:8080/",
          "height": 388
        }
      },
      "source": [
        "#5: Group the year by decades and sum the values (take care with population values)\n",
        "crimes = crime.resample('10AS').sum()\n",
        "crimes.head(10)"
      ],
      "execution_count": null,
      "outputs": [
        {
          "output_type": "execute_result",
          "data": {
            "text/html": [
              "<div>\n",
              "<style scoped>\n",
              "    .dataframe tbody tr th:only-of-type {\n",
              "        vertical-align: middle;\n",
              "    }\n",
              "\n",
              "    .dataframe tbody tr th {\n",
              "        vertical-align: top;\n",
              "    }\n",
              "\n",
              "    .dataframe thead th {\n",
              "        text-align: right;\n",
              "    }\n",
              "</style>\n",
              "<table border=\"1\" class=\"dataframe\">\n",
              "  <thead>\n",
              "    <tr style=\"text-align: right;\">\n",
              "      <th></th>\n",
              "      <th>Population</th>\n",
              "      <th>Violent</th>\n",
              "      <th>Property</th>\n",
              "      <th>Murder</th>\n",
              "      <th>Forcible_Rape</th>\n",
              "      <th>Robbery</th>\n",
              "      <th>Aggravated_assault</th>\n",
              "      <th>Burglary</th>\n",
              "      <th>Larceny_Theft</th>\n",
              "      <th>Vehicle_Theft</th>\n",
              "    </tr>\n",
              "    <tr>\n",
              "      <th>Year</th>\n",
              "      <th></th>\n",
              "      <th></th>\n",
              "      <th></th>\n",
              "      <th></th>\n",
              "      <th></th>\n",
              "      <th></th>\n",
              "      <th></th>\n",
              "      <th></th>\n",
              "      <th></th>\n",
              "      <th></th>\n",
              "    </tr>\n",
              "  </thead>\n",
              "  <tbody>\n",
              "    <tr>\n",
              "      <th>1960-01-01</th>\n",
              "      <td>1915053175</td>\n",
              "      <td>4134930</td>\n",
              "      <td>45160900</td>\n",
              "      <td>106180</td>\n",
              "      <td>236720</td>\n",
              "      <td>1633510</td>\n",
              "      <td>2158520</td>\n",
              "      <td>13321100</td>\n",
              "      <td>26547700</td>\n",
              "      <td>5292100</td>\n",
              "    </tr>\n",
              "    <tr>\n",
              "      <th>1970-01-01</th>\n",
              "      <td>2121193298</td>\n",
              "      <td>9607930</td>\n",
              "      <td>91383800</td>\n",
              "      <td>192230</td>\n",
              "      <td>554570</td>\n",
              "      <td>4159020</td>\n",
              "      <td>4702120</td>\n",
              "      <td>28486000</td>\n",
              "      <td>53157800</td>\n",
              "      <td>9739900</td>\n",
              "    </tr>\n",
              "    <tr>\n",
              "      <th>1980-01-01</th>\n",
              "      <td>2371370069</td>\n",
              "      <td>14074328</td>\n",
              "      <td>117048900</td>\n",
              "      <td>206439</td>\n",
              "      <td>865639</td>\n",
              "      <td>5383109</td>\n",
              "      <td>7619130</td>\n",
              "      <td>33073494</td>\n",
              "      <td>72040253</td>\n",
              "      <td>11935411</td>\n",
              "    </tr>\n",
              "    <tr>\n",
              "      <th>1990-01-01</th>\n",
              "      <td>2612825258</td>\n",
              "      <td>17527048</td>\n",
              "      <td>119053499</td>\n",
              "      <td>211664</td>\n",
              "      <td>998827</td>\n",
              "      <td>5748930</td>\n",
              "      <td>10568963</td>\n",
              "      <td>26750015</td>\n",
              "      <td>77679366</td>\n",
              "      <td>14624418</td>\n",
              "    </tr>\n",
              "    <tr>\n",
              "      <th>2000-01-01</th>\n",
              "      <td>2947969117</td>\n",
              "      <td>13968056</td>\n",
              "      <td>100944369</td>\n",
              "      <td>163068</td>\n",
              "      <td>922499</td>\n",
              "      <td>4230366</td>\n",
              "      <td>8652124</td>\n",
              "      <td>21565176</td>\n",
              "      <td>67970291</td>\n",
              "      <td>11412834</td>\n",
              "    </tr>\n",
              "    <tr>\n",
              "      <th>2010-01-01</th>\n",
              "      <td>1570146307</td>\n",
              "      <td>6072017</td>\n",
              "      <td>44095950</td>\n",
              "      <td>72867</td>\n",
              "      <td>421059</td>\n",
              "      <td>1749809</td>\n",
              "      <td>3764142</td>\n",
              "      <td>10125170</td>\n",
              "      <td>30401698</td>\n",
              "      <td>3569080</td>\n",
              "    </tr>\n",
              "  </tbody>\n",
              "</table>\n",
              "</div>"
            ],
            "text/plain": [
              "            Population   Violent  ...  Larceny_Theft  Vehicle_Theft\n",
              "Year                              ...                              \n",
              "1960-01-01  1915053175   4134930  ...       26547700        5292100\n",
              "1970-01-01  2121193298   9607930  ...       53157800        9739900\n",
              "1980-01-01  2371370069  14074328  ...       72040253       11935411\n",
              "1990-01-01  2612825258  17527048  ...       77679366       14624418\n",
              "2000-01-01  2947969117  13968056  ...       67970291       11412834\n",
              "2010-01-01  1570146307   6072017  ...       30401698        3569080\n",
              "\n",
              "[6 rows x 10 columns]"
            ]
          },
          "metadata": {
            "tags": []
          },
          "execution_count": 114
        }
      ]
    },
    {
      "cell_type": "code",
      "metadata": {
        "id": "oTMY8vSLtjau",
        "outputId": "6d236b55-3cca-4a3a-bf2e-76e9c5d77c94",
        "colab": {
          "base_uri": "https://localhost:8080/"
        }
      },
      "source": [
        "#5: What is the most dangerous decade to live in the US?\n",
        "crimes['Percentage of population subject to crime'] = (crimes['Violent'] + crimes['Property'] + crimes['Murder'] + crimes['Forcible_Rape'] + crimes['Robbery'] + crimes['Aggravated_assault'] + crimes['Burglary'] + crimes['Larceny_Theft'] + crimes['Vehicle_Theft'])/ crimes['Population']\n",
        "crimes5 = crimes[['Percentage of population subject to crime']].copy()\n",
        "print(crimes5)"
      ],
      "execution_count": null,
      "outputs": [
        {
          "output_type": "stream",
          "text": [
            "            Percentage of population subject to crime\n",
            "Year                                                 \n",
            "1960-01-01                                   0.051482\n",
            "1970-01-01                                   0.095222\n",
            "1980-01-01                                   0.110589\n",
            "1990-01-01                                   0.104547\n",
            "2000-01-01                                   0.077962\n",
            "2010-01-01                                   0.063861\n"
          ],
          "name": "stdout"
        }
      ]
    },
    {
      "cell_type": "markdown",
      "metadata": {
        "id": "hkJUum7NtoQ7"
      },
      "source": [
        "From the table above we see that the 1980's is the most dangerous decade"
      ]
    },
    {
      "cell_type": "markdown",
      "metadata": {
        "id": "TtTjzzqEKs9W"
      },
      "source": [
        "# SQLite and Pandas"
      ]
    },
    {
      "cell_type": "markdown",
      "metadata": {
        "id": "kdc6MV8VPqnI"
      },
      "source": [
        "## SQLite, Pandas and the world of tips"
      ]
    },
    {
      "cell_type": "markdown",
      "metadata": {
        "id": "aAl6NWYfP-QR"
      },
      "source": [
        "Given [this](https://github.com/vfp1/bts-dsf-2020/blob/main/data/tips.csv) CSV file. Do the following:\n",
        "\n",
        "* Load it in Pandas\n",
        "* Save the `DataFrame` as SQLite\n",
        "* Reply the following questions by slicing the SQLite database with SQL queries and then using Pandas for analysis:\n",
        "    * Who is most likely to receive a tip during weekday? A Female or a Male? \n",
        "        * And during weekends?\n",
        "    * What is the table size that is most likely to bring a better tip?\n",
        "    * Who are giving more tips, smokers or non smokers? "
      ]
    },
    {
      "cell_type": "code",
      "metadata": {
        "id": "CMxpFSCJuMyG",
        "outputId": "1f0b0b2b-2523-45cd-e83e-eeb44e59377b",
        "colab": {
          "base_uri": "https://localhost:8080/",
          "height": 204
        }
      },
      "source": [
        "import pandas as pd\n",
        "import numpy as np\n",
        "url = 'https://raw.githubusercontent.com/vfp1/bts-dsf-2020/main/data/tips.csv'\n",
        "tips = pd.read_csv(url)\n",
        "tips.head()"
      ],
      "execution_count": null,
      "outputs": [
        {
          "output_type": "execute_result",
          "data": {
            "text/html": [
              "<div>\n",
              "<style scoped>\n",
              "    .dataframe tbody tr th:only-of-type {\n",
              "        vertical-align: middle;\n",
              "    }\n",
              "\n",
              "    .dataframe tbody tr th {\n",
              "        vertical-align: top;\n",
              "    }\n",
              "\n",
              "    .dataframe thead th {\n",
              "        text-align: right;\n",
              "    }\n",
              "</style>\n",
              "<table border=\"1\" class=\"dataframe\">\n",
              "  <thead>\n",
              "    <tr style=\"text-align: right;\">\n",
              "      <th></th>\n",
              "      <th>total_bill</th>\n",
              "      <th>tip</th>\n",
              "      <th>sex</th>\n",
              "      <th>smoker</th>\n",
              "      <th>day</th>\n",
              "      <th>time</th>\n",
              "      <th>size</th>\n",
              "    </tr>\n",
              "  </thead>\n",
              "  <tbody>\n",
              "    <tr>\n",
              "      <th>0</th>\n",
              "      <td>16.99</td>\n",
              "      <td>1.01</td>\n",
              "      <td>Female</td>\n",
              "      <td>No</td>\n",
              "      <td>Sun</td>\n",
              "      <td>Dinner</td>\n",
              "      <td>2</td>\n",
              "    </tr>\n",
              "    <tr>\n",
              "      <th>1</th>\n",
              "      <td>10.34</td>\n",
              "      <td>1.66</td>\n",
              "      <td>Male</td>\n",
              "      <td>No</td>\n",
              "      <td>Sun</td>\n",
              "      <td>Dinner</td>\n",
              "      <td>3</td>\n",
              "    </tr>\n",
              "    <tr>\n",
              "      <th>2</th>\n",
              "      <td>21.01</td>\n",
              "      <td>3.50</td>\n",
              "      <td>Male</td>\n",
              "      <td>No</td>\n",
              "      <td>Sun</td>\n",
              "      <td>Dinner</td>\n",
              "      <td>3</td>\n",
              "    </tr>\n",
              "    <tr>\n",
              "      <th>3</th>\n",
              "      <td>23.68</td>\n",
              "      <td>3.31</td>\n",
              "      <td>Male</td>\n",
              "      <td>No</td>\n",
              "      <td>Sun</td>\n",
              "      <td>Dinner</td>\n",
              "      <td>2</td>\n",
              "    </tr>\n",
              "    <tr>\n",
              "      <th>4</th>\n",
              "      <td>24.59</td>\n",
              "      <td>3.61</td>\n",
              "      <td>Female</td>\n",
              "      <td>No</td>\n",
              "      <td>Sun</td>\n",
              "      <td>Dinner</td>\n",
              "      <td>4</td>\n",
              "    </tr>\n",
              "  </tbody>\n",
              "</table>\n",
              "</div>"
            ],
            "text/plain": [
              "   total_bill   tip     sex smoker  day    time  size\n",
              "0       16.99  1.01  Female     No  Sun  Dinner     2\n",
              "1       10.34  1.66    Male     No  Sun  Dinner     3\n",
              "2       21.01  3.50    Male     No  Sun  Dinner     3\n",
              "3       23.68  3.31    Male     No  Sun  Dinner     2\n",
              "4       24.59  3.61  Female     No  Sun  Dinner     4"
            ]
          },
          "metadata": {
            "tags": []
          },
          "execution_count": 2
        }
      ]
    },
    {
      "cell_type": "code",
      "metadata": {
        "id": "opxbHJV2uN6K"
      },
      "source": [
        "#Save as SQLite\n",
        "import sqlite3\n",
        "\n",
        "cnx = sqlite3.connect('tips.db')\n",
        "tips.to_sql(name='tips', con=cnx)"
      ],
      "execution_count": null,
      "outputs": []
    },
    {
      "cell_type": "code",
      "metadata": {
        "id": "XpVQ02FfxeDY"
      },
      "source": [
        "import sqlite3\n",
        "\n",
        "def create_connect_database(db_name):\n",
        "    \"\"\"Opens connection or creates it if it is not existent\"\"\"\n",
        "    connection = sqlite3.connect(db_name)\n",
        "    cursor = connection.cursor()\n",
        "    \n",
        "    return connection, cursor\n",
        "\n",
        "def commit_close(conn, c, close_connection=True):\n",
        "    \"\"\"Commits to connection DB and closes it if close is True\"\"\"\n",
        "    conn.commit()\n",
        "\n",
        "    if close_connection is True:\n",
        "        c.close()\n",
        "        conn.close()\n",
        "    elif close_connection is False:\n",
        "        pass"
      ],
      "execution_count": null,
      "outputs": []
    },
    {
      "cell_type": "code",
      "metadata": {
        "id": "aiKxreWdxqe0",
        "outputId": "3c9a0f85-6c07-43f1-d223-9e0150f40b6f",
        "colab": {
          "base_uri": "https://localhost:8080/",
          "height": 297
        }
      },
      "source": [
        "#1: Who is most likely to receive a tip during weekday? A Female or a Male?\n",
        "import pandas as pd\n",
        "import sqlite3\n",
        "\n",
        "conn, cursor = create_connect_database(\"tips.db\")\n",
        "\n",
        "query = \"\"\"SELECT day, sex, COUNT(*)\n",
        "FROM tips\n",
        "GROUP BY day, sex;\"\"\"\n",
        "\n",
        "df = pd.read_sql_query(query, conn)\n",
        "df.head(14)"
      ],
      "execution_count": null,
      "outputs": [
        {
          "output_type": "execute_result",
          "data": {
            "text/html": [
              "<div>\n",
              "<style scoped>\n",
              "    .dataframe tbody tr th:only-of-type {\n",
              "        vertical-align: middle;\n",
              "    }\n",
              "\n",
              "    .dataframe tbody tr th {\n",
              "        vertical-align: top;\n",
              "    }\n",
              "\n",
              "    .dataframe thead th {\n",
              "        text-align: right;\n",
              "    }\n",
              "</style>\n",
              "<table border=\"1\" class=\"dataframe\">\n",
              "  <thead>\n",
              "    <tr style=\"text-align: right;\">\n",
              "      <th></th>\n",
              "      <th>day</th>\n",
              "      <th>sex</th>\n",
              "      <th>COUNT(*)</th>\n",
              "    </tr>\n",
              "  </thead>\n",
              "  <tbody>\n",
              "    <tr>\n",
              "      <th>0</th>\n",
              "      <td>Fri</td>\n",
              "      <td>Female</td>\n",
              "      <td>9</td>\n",
              "    </tr>\n",
              "    <tr>\n",
              "      <th>1</th>\n",
              "      <td>Fri</td>\n",
              "      <td>Male</td>\n",
              "      <td>10</td>\n",
              "    </tr>\n",
              "    <tr>\n",
              "      <th>2</th>\n",
              "      <td>Sat</td>\n",
              "      <td>Female</td>\n",
              "      <td>28</td>\n",
              "    </tr>\n",
              "    <tr>\n",
              "      <th>3</th>\n",
              "      <td>Sat</td>\n",
              "      <td>Male</td>\n",
              "      <td>59</td>\n",
              "    </tr>\n",
              "    <tr>\n",
              "      <th>4</th>\n",
              "      <td>Sun</td>\n",
              "      <td>Female</td>\n",
              "      <td>18</td>\n",
              "    </tr>\n",
              "    <tr>\n",
              "      <th>5</th>\n",
              "      <td>Sun</td>\n",
              "      <td>Male</td>\n",
              "      <td>58</td>\n",
              "    </tr>\n",
              "    <tr>\n",
              "      <th>6</th>\n",
              "      <td>Thur</td>\n",
              "      <td>Female</td>\n",
              "      <td>32</td>\n",
              "    </tr>\n",
              "    <tr>\n",
              "      <th>7</th>\n",
              "      <td>Thur</td>\n",
              "      <td>Male</td>\n",
              "      <td>30</td>\n",
              "    </tr>\n",
              "  </tbody>\n",
              "</table>\n",
              "</div>"
            ],
            "text/plain": [
              "    day     sex  COUNT(*)\n",
              "0   Fri  Female         9\n",
              "1   Fri    Male        10\n",
              "2   Sat  Female        28\n",
              "3   Sat    Male        59\n",
              "4   Sun  Female        18\n",
              "5   Sun    Male        58\n",
              "6  Thur  Female        32\n",
              "7  Thur    Male        30"
            ]
          },
          "metadata": {
            "tags": []
          },
          "execution_count": 119
        }
      ]
    },
    {
      "cell_type": "code",
      "metadata": {
        "id": "g8cVWo74x3Py",
        "outputId": "55a65ce4-33c8-4e80-a0c1-c70f6f8de8c7",
        "colab": {
          "base_uri": "https://localhost:8080/",
          "height": 173
        }
      },
      "source": [
        "query = '''SELECT  \n",
        "\n",
        "                sex \n",
        "\n",
        "                ,CASE \n",
        "\n",
        "                    WHEN (day != 'Sat') and (day != 'Sun') THEN 'weekday' \n",
        "\n",
        "                    ELSE 'weekend' \n",
        "\n",
        "                END AS weekday_weekend \n",
        "\n",
        "                ,count(tip) \n",
        "\n",
        "  \n",
        "\n",
        "FROM tips \n",
        "\n",
        "GROUP BY sex \n",
        "\n",
        "                ,CASE \n",
        "\n",
        "                    WHEN (day != 'Sat') and (day != 'Sun') THEN 'weekday' \n",
        "\n",
        "                    ELSE 'weekend' \n",
        "\n",
        "                END \n",
        "\n",
        "''' \n",
        "df = pd.read_sql_query(query, conn)\n",
        "df"
      ],
      "execution_count": null,
      "outputs": [
        {
          "output_type": "execute_result",
          "data": {
            "text/html": [
              "<div>\n",
              "<style scoped>\n",
              "    .dataframe tbody tr th:only-of-type {\n",
              "        vertical-align: middle;\n",
              "    }\n",
              "\n",
              "    .dataframe tbody tr th {\n",
              "        vertical-align: top;\n",
              "    }\n",
              "\n",
              "    .dataframe thead th {\n",
              "        text-align: right;\n",
              "    }\n",
              "</style>\n",
              "<table border=\"1\" class=\"dataframe\">\n",
              "  <thead>\n",
              "    <tr style=\"text-align: right;\">\n",
              "      <th></th>\n",
              "      <th>sex</th>\n",
              "      <th>weekday_weekend</th>\n",
              "      <th>count(tip)</th>\n",
              "    </tr>\n",
              "  </thead>\n",
              "  <tbody>\n",
              "    <tr>\n",
              "      <th>0</th>\n",
              "      <td>Female</td>\n",
              "      <td>weekday</td>\n",
              "      <td>41</td>\n",
              "    </tr>\n",
              "    <tr>\n",
              "      <th>1</th>\n",
              "      <td>Female</td>\n",
              "      <td>weekend</td>\n",
              "      <td>46</td>\n",
              "    </tr>\n",
              "    <tr>\n",
              "      <th>2</th>\n",
              "      <td>Male</td>\n",
              "      <td>weekday</td>\n",
              "      <td>40</td>\n",
              "    </tr>\n",
              "    <tr>\n",
              "      <th>3</th>\n",
              "      <td>Male</td>\n",
              "      <td>weekend</td>\n",
              "      <td>117</td>\n",
              "    </tr>\n",
              "  </tbody>\n",
              "</table>\n",
              "</div>"
            ],
            "text/plain": [
              "      sex weekday_weekend  count(tip)\n",
              "0  Female         weekday          41\n",
              "1  Female         weekend          46\n",
              "2    Male         weekday          40\n",
              "3    Male         weekend         117"
            ]
          },
          "metadata": {
            "tags": []
          },
          "execution_count": 6
        }
      ]
    },
    {
      "cell_type": "code",
      "metadata": {
        "id": "G6KSL81ex3jx"
      },
      "source": [
        "import pandas as pd\n",
        "import sqlite3\n",
        "\n",
        "conn, cursor = create_connect_database(\"tips.db\")\n",
        "\n",
        "query = \"\"\"SELECT size, AVG(tip), COUNT(*)\n",
        "FROM tips\n",
        "GROUP BY size;\"\"\"\n",
        "\n",
        "df = pd.read_sql_query(query, conn)\n",
        "df"
      ],
      "execution_count": null,
      "outputs": []
    },
    {
      "cell_type": "code",
      "metadata": {
        "id": "it0t-wqMx3nK"
      },
      "source": [
        ""
      ],
      "execution_count": null,
      "outputs": []
    },
    {
      "cell_type": "code",
      "metadata": {
        "id": "j4LN_YBHx3qp"
      },
      "source": [
        ""
      ],
      "execution_count": null,
      "outputs": []
    },
    {
      "cell_type": "markdown",
      "metadata": {
        "id": "oMFekCoyPvkW"
      },
      "source": [
        "## More airports\n",
        "\n",
        "For extra points, plot the routs of incoming/outgoing destinations using Geopandas\n",
        " "
      ]
    },
    {
      "cell_type": "markdown",
      "metadata": {
        "id": "a_UsxZ2zQC85"
      },
      "source": [
        "Download [this Sqlite database](https://github.com/vfp1/bts-dsf-2020/raw/main/data/flights.db)\n",
        "\n",
        "Using SQLite database reply the following questions:\n",
        "\n",
        "  1. Which is the country that has the least amount of active airlines?\n",
        "  2. And which is the country that has the most amount of active airlines?\n",
        "  3. Which is the country that has more airports?\n",
        "  4. And the country with the least airports?\n",
        "  5. Which country has the most outgoing destinations? And the least?\n",
        "  6. And which country has the most incoming destinations? And the least?\n",
        "\n"
      ]
    },
    {
      "cell_type": "code",
      "metadata": {
        "id": "8o0sw6WcJY_Z"
      },
      "source": [
        "import sqlite3\n",
        "\n",
        "def create_connect_database(db_name):\n",
        "    \"\"\"Opens connection or creates it if it is not existent\"\"\"\n",
        "    connection = sqlite3.connect(db_name)\n",
        "    cursor = connection.cursor()\n",
        "    \n",
        "    return connection, cursor\n",
        "\n",
        "def commit_close(conn, c, close_connection=True):\n",
        "    \"\"\"Commits to connection DB and closes it if close is True\"\"\"\n",
        "    conn.commit()\n",
        "\n",
        "    if close_connection is True:\n",
        "        c.close()\n",
        "        conn.close()\n",
        "    elif close_connection is False:\n",
        "        pass"
      ],
      "execution_count": null,
      "outputs": []
    },
    {
      "cell_type": "code",
      "metadata": {
        "id": "ETcuTjqvymVz",
        "outputId": "3a2533a0-7e95-4a9b-dc90-756da61d9dd4",
        "colab": {
          "base_uri": "https://localhost:8080/"
        }
      },
      "source": [
        "!wget \"https://github.com/vfp1/bts-mbds-data-science-foundations-2019/raw/master/sessions/data/flights.db\""
      ],
      "execution_count": null,
      "outputs": [
        {
          "output_type": "stream",
          "text": [
            "--2020-11-10 01:35:37--  https://github.com/vfp1/bts-mbds-data-science-foundations-2019/raw/master/sessions/data/flights.db\n",
            "Resolving github.com (github.com)... 140.82.114.4\n",
            "Connecting to github.com (github.com)|140.82.114.4|:443... connected.\n",
            "HTTP request sent, awaiting response... 302 Found\n",
            "Location: https://raw.githubusercontent.com/vfp1/bts-mbds-data-science-foundations-2019/master/sessions/data/flights.db [following]\n",
            "--2020-11-10 01:35:38--  https://raw.githubusercontent.com/vfp1/bts-mbds-data-science-foundations-2019/master/sessions/data/flights.db\n",
            "Resolving raw.githubusercontent.com (raw.githubusercontent.com)... 151.101.0.133, 151.101.64.133, 151.101.128.133, ...\n",
            "Connecting to raw.githubusercontent.com (raw.githubusercontent.com)|151.101.0.133|:443... connected.\n",
            "HTTP request sent, awaiting response... 200 OK\n",
            "Length: 5415936 (5.2M) [application/octet-stream]\n",
            "Saving to: ‘flights.db’\n",
            "\n",
            "flights.db          100%[===================>]   5.17M  18.8MB/s    in 0.3s    \n",
            "\n",
            "2020-11-10 01:35:38 (18.8 MB/s) - ‘flights.db’ saved [5415936/5415936]\n",
            "\n"
          ],
          "name": "stdout"
        }
      ]
    },
    {
      "cell_type": "code",
      "metadata": {
        "id": "YLLOEbNjymdb",
        "outputId": "135077c2-31bd-4742-cfc8-ce927f09d421",
        "colab": {
          "base_uri": "https://localhost:8080/"
        }
      },
      "source": [
        "import sqlite3\n",
        "\n",
        "connection, cursor = create_connect_database('flights.db')\n",
        "\n",
        "cursor.execute(\"SELECT name FROM SQLite_master WHERE type='table';\")\n",
        "tables = cursor.fetchall()\n",
        "print(tables)"
      ],
      "execution_count": null,
      "outputs": [
        {
          "output_type": "stream",
          "text": [
            "[('airports',), ('airlines',), ('routes',)]\n"
          ],
          "name": "stdout"
        }
      ]
    },
    {
      "cell_type": "code",
      "metadata": {
        "id": "9_LsPeLuymgV",
        "outputId": "e33923f0-6a4d-4d99-c9cb-97bfda5b99d8",
        "colab": {
          "base_uri": "https://localhost:8080/"
        }
      },
      "source": [
        "#1: Which is the country that has the least amount of active airlines?\n",
        "import pandas as pd\n",
        "import sqlite3\n",
        "\n",
        "conn, cursor = create_connect_database(\"flights.db\")\n",
        "\n",
        "query = \"\"\"SELECT country FROM airlines WHERE active=='Y';\"\"\"\n",
        "\n",
        "flights = pd.read_sql_query(query, conn)\n",
        "ans1 = flights['country'].value_counts().sort_values(ascending=True)\n",
        "ans1.head(60)"
      ],
      "execution_count": null,
      "outputs": [
        {
          "output_type": "execute_result",
          "data": {
            "text/plain": [
              "Equatorial Guinea                        1\n",
              "Republic of the Congo                    1\n",
              "Suriname                                 1\n",
              "Ethiopia                                 1\n",
              "Aruba                                    1\n",
              "American Samoa                           1\n",
              "Benin                                    1\n",
              "Lao Peoples Democratic Republic          1\n",
              "Solomon Islands                          1\n",
              "Burundi                                  1\n",
              "Gabon                                    1\n",
              "Cayman Islands                           1\n",
              "Seychelles                               1\n",
              "Reunion                                  1\n",
              "Faroe Islands                            1\n",
              " S.A.                                    1\n",
              "Cook Islands                             1\n",
              "Puerto Rico                              1\n",
              "Madagascar                               1\n",
              "Trinidad and Tobago                      1\n",
              "Honduras                                 1\n",
              "Bhutan                                   1\n",
              "Jamaica                                  1\n",
              "Guadeloupe                               1\n",
              "Marshall Islands                         1\n",
              "AVIANCA                                  1\n",
              "ALASKA                                   1\n",
              "Burkina Faso                             1\n",
              "Cape Verde                               1\n",
              "Canadian Territories                     1\n",
              "Togo                                     1\n",
              "Sao Tome and Principe                    1\n",
              "Luxembourg                               1\n",
              "Bahrain                                  1\n",
              "French Guiana                            1\n",
              "DRAGON                                   1\n",
              "Botswana                                 1\n",
              "Antigua and Barbuda                      1\n",
              "Guatemala                                1\n",
              "Brunei                                   1\n",
              "Niger                                    1\n",
              "Comoros                                  1\n",
              "Democratic People's Republic of Korea    1\n",
              "French Polynesia                         1\n",
              "Kiribati                                 1\n",
              "British Virgin Islands                   1\n",
              "Rwanda                                   1\n",
              "Samoa                                    1\n",
              "Namibia                                  1\n",
              "Syrian Arab Republic                     1\n",
              "Vanuatu                                  1\n",
              "Turkmenistan                             1\n",
              "Saint Vincent and the Grenadines         1\n",
              "Montenegro                               1\n",
              "Slovenia                                 1\n",
              "Nauru                                    1\n",
              "Palau                                    1\n",
              "Senegal                                  1\n",
              "Panama                                   1\n",
              "Syria                                    1\n",
              "Name: country, dtype: int64"
            ]
          },
          "metadata": {
            "tags": []
          },
          "execution_count": 132
        }
      ]
    },
    {
      "cell_type": "markdown",
      "metadata": {
        "id": "zUK4Ujgbz3Zd"
      },
      "source": [
        "The 60 countries displayed above all have the least active airlines with only one each."
      ]
    },
    {
      "cell_type": "code",
      "metadata": {
        "id": "kw7nCNIIymj5",
        "outputId": "7b7e9f11-24b2-4621-eff5-8f66b65857b4",
        "colab": {
          "base_uri": "https://localhost:8080/"
        }
      },
      "source": [
        "#2: And which is the country that has the most amount of active airlines?\n",
        "ans2 = flights['country'].value_counts().sort_values(ascending=False)\n",
        "ans2.head(3)"
      ],
      "execution_count": null,
      "outputs": [
        {
          "output_type": "execute_result",
          "data": {
            "text/plain": [
              "United States     141\n",
              "Russia             72\n",
              "United Kingdom     40\n",
              "Name: country, dtype: int64"
            ]
          },
          "metadata": {
            "tags": []
          },
          "execution_count": 134
        }
      ]
    },
    {
      "cell_type": "markdown",
      "metadata": {
        "id": "q2cSLaoNz2IQ"
      },
      "source": [
        "The United States has the most active airlines, with 141."
      ]
    },
    {
      "cell_type": "code",
      "metadata": {
        "id": "52E1kTw90Lsj",
        "outputId": "dd451ec0-9e74-49eb-daa6-93398b00154a",
        "colab": {
          "base_uri": "https://localhost:8080/"
        }
      },
      "source": [
        "#3: Which is the country that has more airports?\n",
        "import pandas as pd\n",
        "import sqlite3\n",
        "\n",
        "conn, cursor = create_connect_database(\"flights.db\")\n",
        "\n",
        "query = \"\"\"SELECT country FROM airports;\"\"\"\n",
        "\n",
        "flights3 = pd.read_sql_query(query, conn)\n",
        "ans3 = flights3['country'].value_counts().sort_values(ascending=False)\n",
        "ans3.head(3)"
      ],
      "execution_count": null,
      "outputs": [
        {
          "output_type": "execute_result",
          "data": {
            "text/plain": [
              "United States    1697\n",
              "Canada            435\n",
              "Germany           321\n",
              "Name: country, dtype: int64"
            ]
          },
          "metadata": {
            "tags": []
          },
          "execution_count": 135
        }
      ]
    },
    {
      "cell_type": "markdown",
      "metadata": {
        "id": "gTbolRvq1dex"
      },
      "source": [
        "The United States has the most airports, with 1697."
      ]
    },
    {
      "cell_type": "code",
      "metadata": {
        "id": "E1KL5nBU1lmA",
        "outputId": "06fb535a-ce05-4cec-ffec-44bf7202e3f4",
        "colab": {
          "base_uri": "https://localhost:8080/"
        }
      },
      "source": [
        "#4: And the country with the least airports?\n",
        "ans4 = flights3['country'].value_counts().sort_values(ascending=True)\n",
        "ans4.head(30)"
      ],
      "execution_count": null,
      "outputs": [
        {
          "output_type": "execute_result",
          "data": {
            "text/plain": [
              "West Bank                         1\n",
              "Mayotte                           1\n",
              "Gibraltar                         1\n",
              "Burundi                           1\n",
              "British Indian Ocean Territory    1\n",
              "Gambia                            1\n",
              "Monaco                            1\n",
              "Midway Islands                    1\n",
              "Isle of Man                       1\n",
              "Christmas Island                  1\n",
              "Palestine                         1\n",
              "Benin                             1\n",
              "Wake Island                       1\n",
              "Jersey                            1\n",
              "Niue                              1\n",
              "Saint Helena                      1\n",
              "Tuvalu                            1\n",
              "Korea                             1\n",
              "Barbados                          1\n",
              "Nauru                             1\n",
              "Norfolk Island                    1\n",
              "Aruba                             1\n",
              "Bhutan                            1\n",
              "Cocos (Keeling) Islands           1\n",
              "Myanmar                           1\n",
              "Swaziland                         1\n",
              "Luxembourg                        1\n",
              "Albania                           1\n",
              "Johnston Atoll                    1\n",
              "Anguilla                          1\n",
              "Name: country, dtype: int64"
            ]
          },
          "metadata": {
            "tags": []
          },
          "execution_count": 144
        }
      ]
    },
    {
      "cell_type": "markdown",
      "metadata": {
        "id": "GZVfwezk19YT"
      },
      "source": [
        "The 30 countries above all have the least airports with only 1 each."
      ]
    },
    {
      "cell_type": "code",
      "metadata": {
        "id": "CEbb5T2w2C_f"
      },
      "source": [
        "#5: Which country has the most outgoing destinations? And the least?\n",
        "import pandas as pd\n",
        "import sqlite3\n",
        "\n",
        "conn, cursor = create_connect_database(\"flights.db\")\n",
        "\n",
        "query = \"\"\"SELECT \n",
        "CAST(source_air.country AS TEXT) AS source_country, \n",
        "CAST(destination_air.country AS TEXT) AS destination_country \n",
        "FROM routes \n",
        "INNER JOIN airports source_air \n",
        "  ON source_air.id = routes.source_id \n",
        "INNER JOIN airports destination_air \n",
        "  ON destination_air.id = routes.dest_id;\"\"\"\n",
        "\n",
        "flights5 = pd.read_sql_query(query, conn)"
      ],
      "execution_count": null,
      "outputs": []
    },
    {
      "cell_type": "code",
      "metadata": {
        "id": "YPVqbAi23ofZ",
        "outputId": "40f92adc-a59f-47f8-e18e-8aa6075985fd",
        "colab": {
          "base_uri": "https://localhost:8080/"
        }
      },
      "source": [
        "ans5 = flights5['source_country'].value_counts().sort_values(ascending=False)\n",
        "ans5.head(3)"
      ],
      "execution_count": null,
      "outputs": [
        {
          "output_type": "execute_result",
          "data": {
            "text/plain": [
              "United States     13178\n",
              "China              8146\n",
              "United Kingdom     2661\n",
              "Name: source_country, dtype: int64"
            ]
          },
          "metadata": {
            "tags": []
          },
          "execution_count": 153
        }
      ]
    },
    {
      "cell_type": "code",
      "metadata": {
        "id": "eCCXOgaD4KgC",
        "outputId": "95c94e84-6f67-4a61-fb4d-fd2c732a1f97",
        "colab": {
          "base_uri": "https://localhost:8080/"
        }
      },
      "source": [
        "ans5.tail(8)"
      ],
      "execution_count": null,
      "outputs": [
        {
          "output_type": "execute_result",
          "data": {
            "text/plain": [
              "Swaziland                  1\n",
              "Lesotho                    1\n",
              "Cocos (Keeling) Islands    1\n",
              "American Samoa             1\n",
              "Tuvalu                     1\n",
              "Monaco                     1\n",
              "Falkland Islands           1\n",
              "Niue                       1\n",
              "Name: source_country, dtype: int64"
            ]
          },
          "metadata": {
            "tags": []
          },
          "execution_count": 158
        }
      ]
    },
    {
      "cell_type": "markdown",
      "metadata": {
        "id": "JTndPuEE31TC"
      },
      "source": [
        "The United states has the most outgoing destinations with 13178. While the 8 countries above have the least, all with only one.\n"
      ]
    },
    {
      "cell_type": "code",
      "metadata": {
        "id": "RHzU5uDM4JuV",
        "outputId": "3722ee1e-a5c2-4888-f41b-e835272642b0",
        "colab": {
          "base_uri": "https://localhost:8080/"
        }
      },
      "source": [
        "#6: Which country has the most incoming destinations? And the least?\n",
        "ans6 = flights5['destination_country'].value_counts().sort_values(ascending=False)\n",
        "ans6.head(3)"
      ],
      "execution_count": null,
      "outputs": [
        {
          "output_type": "execute_result",
          "data": {
            "text/plain": [
              "United States     13173\n",
              "China              8146\n",
              "United Kingdom     2635\n",
              "Name: destination_country, dtype: int64"
            ]
          },
          "metadata": {
            "tags": []
          },
          "execution_count": 161
        }
      ]
    },
    {
      "cell_type": "code",
      "metadata": {
        "id": "Rg87BtLm44hW",
        "outputId": "a90f46ef-3a7a-4dd7-a1a7-0dc1b48d449c",
        "colab": {
          "base_uri": "https://localhost:8080/"
        }
      },
      "source": [
        "ans6.tail(7)"
      ],
      "execution_count": null,
      "outputs": [
        {
          "output_type": "execute_result",
          "data": {
            "text/plain": [
              "Cocos (Keeling) Islands    1\n",
              "Tuvalu                     1\n",
              "Monaco                     1\n",
              "Lesotho                    1\n",
              "American Samoa             1\n",
              "Falkland Islands           1\n",
              "Swaziland                  1\n",
              "Name: destination_country, dtype: int64"
            ]
          },
          "metadata": {
            "tags": []
          },
          "execution_count": 166
        }
      ]
    },
    {
      "cell_type": "markdown",
      "metadata": {
        "id": "FQ4jsqeK5Cv2"
      },
      "source": [
        "The United states has the most incoming destinations with 13173. While the 7 countries above have the least, all with only one."
      ]
    },
    {
      "cell_type": "markdown",
      "metadata": {
        "id": "63KZX3yeT6WV"
      },
      "source": [
        "# Kaggle Titanic\n",
        "\n",
        "Your first Kaggle challenge! \n",
        "\n",
        "Retrieve the csv (train) file from [this Kaggle challenge](https://www.kaggle.com/c/titanic/data?select=train.csv)\n",
        "\n",
        "Either here or through a Kaggle notebook (you will need to submit then this notebook with the rest of exercises and the Kaggle notebook).\n",
        "\n",
        "Reply to the following questions:\n",
        "\n",
        "\n",
        "\n",
        "1.   How many men and women survived?\n",
        "2.   What was the age group that had a higher survival chance? You can divide age groups in groups of 10 years\n",
        "3. Which port of embarkation had most of the survivors? And which less?\n",
        "4. Which ticket class had most of the survivors? And which less?\n",
        "5. Could you compare the ticket fare with the survival? Did more expensive tickets had higher chance of surviving?\n",
        "\n"
      ]
    },
    {
      "cell_type": "code",
      "metadata": {
        "id": "9i4cR0PQU9Qh",
        "outputId": "8d43db75-4687-4983-d19d-f3b8b7e5aa62",
        "colab": {
          "base_uri": "https://localhost:8080/",
          "height": 255
        }
      },
      "source": [
        "import pandas as pd\n",
        "path = '/content/train.csv'\n",
        "ti = pd.read_csv(path)\n",
        "ti.head()"
      ],
      "execution_count": null,
      "outputs": [
        {
          "output_type": "execute_result",
          "data": {
            "text/html": [
              "<div>\n",
              "<style scoped>\n",
              "    .dataframe tbody tr th:only-of-type {\n",
              "        vertical-align: middle;\n",
              "    }\n",
              "\n",
              "    .dataframe tbody tr th {\n",
              "        vertical-align: top;\n",
              "    }\n",
              "\n",
              "    .dataframe thead th {\n",
              "        text-align: right;\n",
              "    }\n",
              "</style>\n",
              "<table border=\"1\" class=\"dataframe\">\n",
              "  <thead>\n",
              "    <tr style=\"text-align: right;\">\n",
              "      <th></th>\n",
              "      <th>PassengerId</th>\n",
              "      <th>Survived</th>\n",
              "      <th>Pclass</th>\n",
              "      <th>Name</th>\n",
              "      <th>Sex</th>\n",
              "      <th>Age</th>\n",
              "      <th>SibSp</th>\n",
              "      <th>Parch</th>\n",
              "      <th>Ticket</th>\n",
              "      <th>Fare</th>\n",
              "      <th>Cabin</th>\n",
              "      <th>Embarked</th>\n",
              "    </tr>\n",
              "  </thead>\n",
              "  <tbody>\n",
              "    <tr>\n",
              "      <th>0</th>\n",
              "      <td>1</td>\n",
              "      <td>0</td>\n",
              "      <td>3</td>\n",
              "      <td>Braund, Mr. Owen Harris</td>\n",
              "      <td>male</td>\n",
              "      <td>22.0</td>\n",
              "      <td>1</td>\n",
              "      <td>0</td>\n",
              "      <td>A/5 21171</td>\n",
              "      <td>7.2500</td>\n",
              "      <td>NaN</td>\n",
              "      <td>S</td>\n",
              "    </tr>\n",
              "    <tr>\n",
              "      <th>1</th>\n",
              "      <td>2</td>\n",
              "      <td>1</td>\n",
              "      <td>1</td>\n",
              "      <td>Cumings, Mrs. John Bradley (Florence Briggs Th...</td>\n",
              "      <td>female</td>\n",
              "      <td>38.0</td>\n",
              "      <td>1</td>\n",
              "      <td>0</td>\n",
              "      <td>PC 17599</td>\n",
              "      <td>71.2833</td>\n",
              "      <td>C85</td>\n",
              "      <td>C</td>\n",
              "    </tr>\n",
              "    <tr>\n",
              "      <th>2</th>\n",
              "      <td>3</td>\n",
              "      <td>1</td>\n",
              "      <td>3</td>\n",
              "      <td>Heikkinen, Miss. Laina</td>\n",
              "      <td>female</td>\n",
              "      <td>26.0</td>\n",
              "      <td>0</td>\n",
              "      <td>0</td>\n",
              "      <td>STON/O2. 3101282</td>\n",
              "      <td>7.9250</td>\n",
              "      <td>NaN</td>\n",
              "      <td>S</td>\n",
              "    </tr>\n",
              "    <tr>\n",
              "      <th>3</th>\n",
              "      <td>4</td>\n",
              "      <td>1</td>\n",
              "      <td>1</td>\n",
              "      <td>Futrelle, Mrs. Jacques Heath (Lily May Peel)</td>\n",
              "      <td>female</td>\n",
              "      <td>35.0</td>\n",
              "      <td>1</td>\n",
              "      <td>0</td>\n",
              "      <td>113803</td>\n",
              "      <td>53.1000</td>\n",
              "      <td>C123</td>\n",
              "      <td>S</td>\n",
              "    </tr>\n",
              "    <tr>\n",
              "      <th>4</th>\n",
              "      <td>5</td>\n",
              "      <td>0</td>\n",
              "      <td>3</td>\n",
              "      <td>Allen, Mr. William Henry</td>\n",
              "      <td>male</td>\n",
              "      <td>35.0</td>\n",
              "      <td>0</td>\n",
              "      <td>0</td>\n",
              "      <td>373450</td>\n",
              "      <td>8.0500</td>\n",
              "      <td>NaN</td>\n",
              "      <td>S</td>\n",
              "    </tr>\n",
              "  </tbody>\n",
              "</table>\n",
              "</div>"
            ],
            "text/plain": [
              "   PassengerId  Survived  Pclass  ...     Fare Cabin  Embarked\n",
              "0            1         0       3  ...   7.2500   NaN         S\n",
              "1            2         1       1  ...  71.2833   C85         C\n",
              "2            3         1       3  ...   7.9250   NaN         S\n",
              "3            4         1       1  ...  53.1000  C123         S\n",
              "4            5         0       3  ...   8.0500   NaN         S\n",
              "\n",
              "[5 rows x 12 columns]"
            ]
          },
          "metadata": {
            "tags": []
          },
          "execution_count": 46
        }
      ]
    },
    {
      "cell_type": "code",
      "metadata": {
        "id": "2_JsiQC8H5MG",
        "outputId": "ae775e9d-6b05-4d8d-bba6-146d8c844a27",
        "colab": {
          "base_uri": "https://localhost:8080/"
        }
      },
      "source": [
        "#1: How many men and women survived?\n",
        "\n",
        "ti[\"Sex\"] = ti[\"Sex\"].astype(\"category\")\n",
        "\n",
        "#create df with only survived and sex\n",
        "ti1 = ti[['Survived','Sex']].copy()\n",
        "\n",
        "#Drop dead from df \n",
        "ti1 = ti1[~(ti1 == 0).any(axis=1)]\n",
        "\n",
        "#Answer\n",
        "ans1 =ti1.groupby(['Sex'])['Survived'].count()\n",
        "print(ans1)"
      ],
      "execution_count": null,
      "outputs": [
        {
          "output_type": "stream",
          "text": [
            "Sex\n",
            "female    233\n",
            "male      109\n",
            "Name: Survived, dtype: int64\n"
          ],
          "name": "stdout"
        }
      ]
    },
    {
      "cell_type": "code",
      "metadata": {
        "id": "QuoLpEGeIul9",
        "outputId": "7829a9d3-09c8-4434-a246-b5ea684ffbbf",
        "colab": {
          "base_uri": "https://localhost:8080/"
        }
      },
      "source": [
        "#2: What was the age group that had a higher survival chance? You can divide age groups in groups of 10 years\n",
        "\n",
        "#create df with only survived and sex\n",
        "ti2 = ti[['Survived','Age']].copy()\n",
        "ti2.dropna()\n",
        "\n",
        "#create bins\n",
        "bins= [0,10,20,30,40,50,60,70,1000]\n",
        "labels = ['0-9','10-19','20-29','30-39','40-49','50-59','60-69','70+']\n",
        "\n",
        "#Create new column and use cut to assign names to bins \n",
        "ti2['AgeGroup'] = pd.cut(ti2['Age'], bins=bins, labels=labels, right=False)\n",
        "\n",
        "#Percentage of each age group that survived and died\n",
        "ti_count =ti2.groupby(['AgeGroup','Survived'])['Survived'].count()\n",
        "ti_total =ti2.groupby(['AgeGroup'])['Survived'].count()\n",
        "ans2=((ti_count/ti_total)*100).round(2)\n",
        "\n",
        "#Answer 2\n",
        "print(ans2)"
      ],
      "execution_count": null,
      "outputs": [
        {
          "output_type": "stream",
          "text": [
            "AgeGroup  Survived\n",
            "0-9       0           38.71\n",
            "          1           61.29\n",
            "10-19     0           59.80\n",
            "          1           40.20\n",
            "20-29     0           65.00\n",
            "          1           35.00\n",
            "30-39     0           56.29\n",
            "          1           43.71\n",
            "40-49     0           61.80\n",
            "          1           38.20\n",
            "50-59     0           58.33\n",
            "          1           41.67\n",
            "60-69     0           68.42\n",
            "          1           31.58\n",
            "70+       0           85.71\n",
            "          1           14.29\n",
            "Name: Survived, dtype: float64\n"
          ],
          "name": "stdout"
        }
      ]
    },
    {
      "cell_type": "markdown",
      "metadata": {
        "id": "Lr42jU0ZW6em"
      },
      "source": [
        "0 to 9 year olds (infants/children) were the most likely to survive "
      ]
    },
    {
      "cell_type": "code",
      "metadata": {
        "id": "raGQA9ieU2W3",
        "outputId": "bd07cf3e-b355-47f9-8ba0-77fa2d09bc24",
        "colab": {
          "base_uri": "https://localhost:8080/"
        }
      },
      "source": [
        "#3: Which port of embarkation had most of the survivors? And which less?\n",
        "ti3 = ti[['Survived','Embarked']].copy()\n",
        "\n",
        "ans3 = ti3.groupby('Embarked').Survived.sum()  \n",
        "\n",
        "ans3.sort_values(ascending = False)"
      ],
      "execution_count": null,
      "outputs": [
        {
          "output_type": "execute_result",
          "data": {
            "text/plain": [
              "Embarked\n",
              "S    217\n",
              "C     93\n",
              "Q     30\n",
              "Name: Survived, dtype: int64"
            ]
          },
          "metadata": {
            "tags": []
          },
          "execution_count": 61
        }
      ]
    },
    {
      "cell_type": "markdown",
      "metadata": {
        "id": "i32T2Zx_dP3s"
      },
      "source": [
        "Port S had the most and port Q had the least "
      ]
    },
    {
      "cell_type": "code",
      "metadata": {
        "id": "JnEXm8IfLBx3",
        "outputId": "115dd457-35f7-4472-a46f-8244a067aa65",
        "colab": {
          "base_uri": "https://localhost:8080/"
        }
      },
      "source": [
        "#4: Which ticket class had most of the survivors? And which less?\n",
        "ti4 = ti[['Survived','Pclass']].copy()\n",
        "\n",
        "ans4 = ti4.groupby('Pclass').Survived.sum()  \n",
        "\n",
        "ans4.sort_values(ascending = False)"
      ],
      "execution_count": null,
      "outputs": [
        {
          "output_type": "execute_result",
          "data": {
            "text/plain": [
              "Pclass\n",
              "1    136\n",
              "3    119\n",
              "2     87\n",
              "Name: Survived, dtype: int64"
            ]
          },
          "metadata": {
            "tags": []
          },
          "execution_count": 62
        }
      ]
    },
    {
      "cell_type": "markdown",
      "metadata": {
        "id": "W0tN4GCLeY_A"
      },
      "source": [
        "Ticket class 1 had the most while ticket class 2 had the least "
      ]
    },
    {
      "cell_type": "code",
      "metadata": {
        "id": "yQPBY8CILDpv",
        "outputId": "d0ae4a96-0c35-4489-d071-443cd37d49ba",
        "colab": {
          "base_uri": "https://localhost:8080/",
          "height": 466
        }
      },
      "source": [
        "#5: Could you compare the ticket fare with the survival? Did more expensive tickets had higher chance of surviving?\n",
        "ti5 = ti[['Survived','Fare']].copy()\n",
        "maxfare = ti5['Fare'].agg(max)\n",
        "print(maxfare)\n",
        "\n",
        "#create bins n labels\n",
        "bins= [0,25,50,75,100,150,250,600]\n",
        "labels = ['0-24.99','25-49.99','50-74.99','75-99.99','100-149.99','150-249.99','250+']\n",
        "\n",
        "#Create new column and use cut to assign names and values to bins \n",
        "ti5['PriceGroup'] = pd.cut(ti5['Fare'], bins=bins, labels=labels, right=False)\n",
        "\n",
        "ans5 = ti5.groupby('PriceGroup').Survived.sum() / ti5.PriceGroup.value_counts() * 100 \n",
        "\n",
        "#Answer 5\n",
        "print(ans5.round(2))\n",
        "ans5.plot()"
      ],
      "execution_count": null,
      "outputs": [
        {
          "output_type": "stream",
          "text": [
            "512.3292\n",
            "PriceGroup\n",
            "0-24.99       28.73\n",
            "25-49.99      42.20\n",
            "50-74.99      54.69\n",
            "75-99.99      79.55\n",
            "100-149.99    79.17\n",
            "150-249.99    65.00\n",
            "250+          77.78\n",
            "dtype: float64\n"
          ],
          "name": "stdout"
        },
        {
          "output_type": "execute_result",
          "data": {
            "text/plain": [
              "<matplotlib.axes._subplots.AxesSubplot at 0x7fad336fa320>"
            ]
          },
          "metadata": {
            "tags": []
          },
          "execution_count": 167
        },
        {
          "output_type": "display_data",
          "data": {
            "image/png": "[encoded data removed]",
            "text/plain": [
              "<Figure size 432x288 with 1 Axes>"
            ]
          },
          "metadata": {
            "tags": [],
            "needs_background": "light"
          }
        }
      ]
    },
    {
      "cell_type": "markdown",
      "metadata": {
        "id": "YvzowRT8ltHQ"
      },
      "source": [
        "As we can see from the following table and graph, if you're from the lower price brackets you were less likely to survive."
      ]
    }
  ]
}